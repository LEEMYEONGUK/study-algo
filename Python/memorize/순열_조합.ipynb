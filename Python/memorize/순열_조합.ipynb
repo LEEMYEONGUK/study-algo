{
 "cells": [
  {
   "cell_type": "markdown",
   "source": [
    "# 순열과 조합의 차이\n",
    "-> 순열은 순서를 고려하고, 조합은 순서를 고려하지 않음\n",
    "-> 순서를 고려한다는 것은 순서가 다르면 다른 것으로 취급한다는 뜻\n",
    "\n",
    "path = 고른 리스트\n",
    "used = 중복 체크\n",
    "level = 선택 횟수(= idx 등)\n"
   ],
   "metadata": {
    "collapsed": false
   },
   "id": "1899f4274dfd29e3"
  },
  {
   "cell_type": "code",
   "outputs": [],
   "source": [
    "# 순열\n",
    "def dfs(idx, path, used):\n",
    "    if len(path) == M:\n",
    "        print(*path)\n",
    "        return\n",
    "    for i in range(1, N + 1):\n",
    "        if i not in used:\n",
    "            dfs(idx + 1, path + [i], used + [i])\n",
    "\n",
    "N, M = map(int, input().split())\n",
    "dfs(0, [], [])"
   ],
   "metadata": {
    "collapsed": false
   },
   "id": "45e0bc9ac76196"
  },
  {
   "cell_type": "code",
   "outputs": [],
   "source": [
    "# 조합\n",
    "def dfs(idx, path, used):\n",
    "    if idx == N:\n",
    "        if len(path) == M:\n",
    "            path.sort()\n",
    "            print(*path)\n",
    "        return\n",
    "    dfs(idx + 1, path + [lst[idx]], used + [lst[idx]])\n",
    "    dfs(idx + 1, path, used)\n",
    "\n",
    "N, M = map(int, input().split())\n",
    "lst = list(range(1, N + 1))\n",
    "dfs(0, [], [])"
   ],
   "metadata": {
    "collapsed": false
   },
   "id": "bb90a73abd5f85f9"
  },
  {
   "cell_type": "markdown",
   "source": [
    "참고 사이트\n",
    "https://url.kr/iovgz6\n",
    "https://url.kr/7jtm9q"
   ],
   "metadata": {
    "collapsed": false
   },
   "id": "9684c62e4ae80001"
  },
  {
   "cell_type": "markdown",
   "source": [
    "백트래킹 : 가능한 모든 경우 실행 => 정답\n"
   ],
   "metadata": {
    "collapsed": false
   },
   "id": "dcb0671089714e7a"
  },
  {
   "cell_type": "code",
   "outputs": [],
   "source": [
    "# N 과 M(1), 문어 박사\n",
    "def dfs(n, lst):\n",
    "    # 종료조건(n에 관련) 처리 + 정답 처리\n",
    "    if n == N:\n",
    "        ans.append(lst)\n",
    "        return\n",
    "    # 하부 단계(함수) 호출\n",
    "    for j in range(1, N + 1):\n",
    "        # 선택하지 않은 숫자인 경우 추가\n",
    "        if v[j] == 0:\n",
    "            v[j] = 1\n",
    "            dfs(n+1, lst+[j])\n",
    "            v[j] = 0\n",
    "\n",
    "N, M = map(int, input().split())\n",
    "# 정답 리스트를 저장할 리스트\n",
    "ans = []\n",
    "# 중복 확인을 위한 visited[]\n",
    "v = [0] * (N + 1)\n",
    "\n",
    "dfs(0, [])\n",
    "for lst in ans:\n",
    "    print(*lst)"
   ],
   "metadata": {
    "collapsed": false
   },
   "id": "682aab964931d84e"
  },
  {
   "cell_type": "code",
   "outputs": [],
   "source": [
    "# N 과 M (2)\n",
    "\n",
    "def dfs(n, lst):\n",
    "    # 종료 조건: n관련\n",
    "    # N개 짜리 수열 => 정답처리\n",
    "    if n > N:\n",
    "        if len(lst) == M:\n",
    "            return\n",
    "    dfs(n + 1, lst + [n])\n",
    "    dfs(n + 1, lst)\n",
    "\n",
    "N, M = map(int, input().split())\n",
    "ans = []\n",
    "dfs(1, [])\n",
    "for lst in ans:\n",
    "    print(*lst)\n",
    "    "
   ],
   "metadata": {
    "collapsed": false
   },
   "id": "de47320fc06ec7e2"
  },
  {
   "cell_type": "code",
   "outputs": [],
   "source": [
    "# N 과 M (2) - 다른 방법\n",
    "def dfs(n, s, lst):\n",
    "    # M개 선택 완료\n",
    "    if n == M:\n",
    "        ans.append(lst)\n",
    "        return \n",
    "    for j in range(s, N + 1):\n",
    "        dfs(n+1, j+1, lst+[j])\n",
    "\n",
    "N, M = map(int, input().split())\n",
    "ans = []\n",
    "# 이진트리\n",
    "# dfs(1, [])\n",
    "\n",
    "# 멀티트리\n",
    "dfs(0, 1, [])\n",
    "for lst in ans:\n",
    "    print(*lst)"
   ],
   "metadata": {
    "collapsed": false
   },
   "id": "e4150e6ee8df30fa"
  },
  {
   "cell_type": "code",
   "outputs": [],
   "source": [
    "# N과 M (3)\n",
    "def dfs(n, lst):\n",
    "    if n == M: # M개 선택(종료조건)\n",
    "        ans.append(lst)\n",
    "        return\n",
    "    for j in range(1, N + 1):\n",
    "        dfs(n+1, lst + [j])\n",
    "N, M = map(int, input().split())\n",
    "ans = []\n",
    "dfs(0, [])\n",
    "for lst in ans:\n",
    "    print(*lst)"
   ],
   "metadata": {
    "collapsed": false
   },
   "id": "1d3818048faf523d"
  },
  {
   "cell_type": "code",
   "outputs": [],
   "source": [
    "# N과 M (4)\n",
    "# n : 선택한 숫자 개수\n",
    "# s : 선핸한 숫자 => 전달\n",
    "\n",
    "def dfs(n, s, lst):\n",
    "    if n == M:\n",
    "        answer.append(lst)\n",
    "        return\n",
    "    for j in range(s, N + 1):\n",
    "        dfs(n + 1, j, lst + [j])\n",
    "\n",
    "\n",
    "N, M = map(int, input().split())\n",
    "answer = []\n",
    "dfs(0, 1, [])\n",
    "for lst in answer:\n",
    "    print(*lst)"
   ],
   "metadata": {
    "collapsed": false
   },
   "id": "fbd2ed2b51b3732d"
  },
  {
   "cell_type": "code",
   "outputs": [],
   "source": [
    "# N과 M(5)\n",
    "# 가능한 모든 경우 처리 => 정답\n",
    "# tree n: 선택한 숫자 개수 (종료 조건)\n",
    "\n",
    "def dfs(n, tlst):\n",
    "    if n == M:  #종료조건(n에 관련): 선택한 숫자개수 == M\n",
    "        ans.append(tlst)     \n",
    "        return \n",
    "    for j in range(N):\n",
    "        if v[j] == 0:\n",
    "            v[j] = 1\n",
    "            dfs(n+1, tlst+[lst[j]])\n",
    "            v[j] = 0\n",
    "        \n",
    "        \n",
    "N, M = map(int, input().split())\n",
    "lst = sorted(list(map(int, input().split())))\n",
    "v = [0] * N\n",
    "ans = []\n",
    "dfs(0, [])\n",
    "for lst in ans:\n",
    "    print(*lst)"
   ],
   "metadata": {
    "collapsed": false
   },
   "id": "90b8cce2bbed9a4d"
  },
  {
   "cell_type": "code",
   "outputs": [],
   "source": [
    "# N과 M(6)\n",
    "\n",
    "def dfs(n, s, tlst):\n",
    "    if n == M:\n",
    "        ans.append(tlst)\n",
    "        return\n",
    "    for j in range(s, N):\n",
    "        if v[j] == 0:\n",
    "            v[j] = 1\n",
    "            dfs(n + 1, j + 1, tlst + [lst[j]])\n",
    "            v[j] = 0\n",
    "            \n",
    "N, M = map(int, input().split())\n",
    "lst = sorted(list(map(int, input().split())))\n",
    "\n",
    "ans = []\n",
    "v = [0] * N\n",
    "# 선택 개수, 시작 j 위치, tlst\n",
    "dfs(0, 0, [])\n",
    "\n",
    "for lst in ans:\n",
    "    print(*lst)"
   ],
   "metadata": {
    "collapsed": false
   },
   "id": "378b80afca1d464e"
  },
  {
   "cell_type": "code",
   "outputs": [],
   "source": [
    "# N과 M (7)\n",
    "# 일반화 시켜보기\n",
    "# 중복 체크 x\n",
    "\n",
    "# N과 M (8)\n",
    "# 중복 허용\n",
    "# 비내림차순 s 변수, 다음거 뽑을때 s 부터 끝까지"
   ],
   "metadata": {
    "collapsed": false
   },
   "id": "b2d91f86dd784029"
  },
  {
   "cell_type": "code",
   "outputs": [],
   "source": [
    "# N과 M (9)\n",
    "# 중복 제거\n",
    "\n",
    "def dfs(n, tlst):\n",
    "    if n == M:\n",
    "        ans.append(tlst)\n",
    "        return\n",
    "    prev = 0\n",
    "    for j in range(N):\n",
    "        if v[j] == 0 and prev != lst[j]:\n",
    "            prev = lst[j]\n",
    "            v[j] = 1\n",
    "            dfs(n + 1, tlst+[lst[j]])\n",
    "            v[j] = 0\n",
    "\n",
    "N, M = map(int, input().split())\n",
    "lst = sorted(list(map(int, input().split())))\n",
    "\n",
    "ans = []\n",
    "v = [0] * N\n",
    "dfs(0, [])\n",
    "\n",
    "for lst in ans:\n",
    "    print(*lst)"
   ],
   "metadata": {
    "collapsed": false
   },
   "id": "d00634dedc86c954"
  },
  {
   "cell_type": "code",
   "outputs": [],
   "source": [
    "# N과 M (9~ 12)\n",
    "# 비슷한 뭄ㄴ제"
   ],
   "metadata": {
    "collapsed": false
   },
   "id": "78a355c5cf913e43"
  },
  {
   "cell_type": "code",
   "outputs": [
    {
     "name": "stdout",
     "output_type": "stream",
     "text": [
      "[0, 1]\n",
      "[0, 2]\n",
      "[0, 3]\n",
      "[1, 2]\n",
      "[1, 3]\n",
      "[2, 3]\n"
     ]
    }
   ],
   "source": [
    "def dfs(n, s, t_lst):\n",
    "    if n == 2:\n",
    "        print(t_lst)\n",
    "        return \n",
    "    for j in range(s, N):\n",
    "        dfs(n + 1, j + 1, t_lst+[j])\n",
    "N = 4\n",
    "dfs(0, 0, [])"
   ],
   "metadata": {
    "collapsed": false,
    "ExecuteTime": {
     "end_time": "2024-03-28T14:11:57.650563Z",
     "start_time": "2024-03-28T14:11:57.646669Z"
    }
   },
   "id": "b9b77a933e4506fb",
   "execution_count": 2
  },
  {
   "cell_type": "code",
   "outputs": [
    {
     "name": "stdout",
     "output_type": "stream",
     "text": [
      "[0, 1]\n",
      "[0, 2]\n",
      "[0, 3]\n",
      "[1, 0]\n",
      "[1, 2]\n",
      "[1, 3]\n",
      "[2, 0]\n",
      "[2, 1]\n",
      "[2, 3]\n",
      "[3, 0]\n",
      "[3, 1]\n",
      "[3, 2]\n"
     ]
    }
   ],
   "source": [
    "def dfs(n, t_lst):\n",
    "    if n == 2:\n",
    "        print(t_lst)\n",
    "        return \n",
    "    for j in range(N):\n",
    "        if visited[j] == 0:\n",
    "            visited[j] = 1\n",
    "            dfs(n + 1, t_lst+[j])\n",
    "            visited[j] = 0\n",
    "            \n",
    "N = 4\n",
    "visited = [0] * (N + 1)\n",
    "dfs(0, [])"
   ],
   "metadata": {
    "collapsed": false,
    "ExecuteTime": {
     "end_time": "2024-03-28T14:13:27.366791Z",
     "start_time": "2024-03-28T14:13:27.360919Z"
    }
   },
   "id": "be76d1d25d890594",
   "execution_count": 4
  }
 ],
 "metadata": {
  "kernelspec": {
   "display_name": "Python 3",
   "language": "python",
   "name": "python3"
  },
  "language_info": {
   "codemirror_mode": {
    "name": "ipython",
    "version": 2
   },
   "file_extension": ".py",
   "mimetype": "text/x-python",
   "name": "python",
   "nbconvert_exporter": "python",
   "pygments_lexer": "ipython2",
   "version": "2.7.6"
  }
 },
 "nbformat": 4,
 "nbformat_minor": 5
}
