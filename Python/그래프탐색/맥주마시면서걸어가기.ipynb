{
 "cells": [
  {
   "cell_type": "code",
   "execution_count": null,
   "id": "initial_id",
   "metadata": {
    "collapsed": true
   },
   "outputs": [],
   "source": [
    "def bfs(sj, si, ej, ei):\n",
    "    # q생성, 필요 변수 등 생성\n",
    "    q = []\n",
    "    v = [0] * N\n",
    "\n",
    "    # 큐에 초기 데이터 삽입, si, sj는 v에 표시 x\n",
    "    q.append((sj, si))\n",
    "\n",
    "    while q:\n",
    "        cj, ci = q.pop(0)\n",
    "        if abs(cj - ej) + abs(ci - ei) <= 1000:  # 목적지 도달\n",
    "            return 'happy'\n",
    "\n",
    "        # 미방문 모든 편의점 좌표 : 범위 내인지 체크\n",
    "        for i in range(N):\n",
    "            if v[i] == 0:  # 미방문 편의점\n",
    "                nj, ni = lst[i]\n",
    "                if abs(cj - nj) + abs(ci - ni) <= 1000:  # 범위내\n",
    "                    q.append((nj, ni))\n",
    "                    v[i] = 1\n",
    "    return 'sad'\n",
    "\n",
    "\n",
    "TC = int(input())\n",
    "\n",
    "for _ in range(TC):\n",
    "    N = int(input())\n",
    "    sj, si = map(int, input().split())\n",
    "    lst = []\n",
    "    for _ in range(N):\n",
    "        tj, ti = map(int, input().split())\n",
    "        lst.append((tj, ti))\n",
    "    ej, ei = map(int, input().split())\n",
    "\n",
    "    ans = bfs(sj, si, ej, ei)\n",
    "    print(ans)"
   ]
  }
 ],
 "metadata": {
  "kernelspec": {
   "display_name": "Python 3",
   "language": "python",
   "name": "python3"
  },
  "language_info": {
   "codemirror_mode": {
    "name": "ipython",
    "version": 2
   },
   "file_extension": ".py",
   "mimetype": "text/x-python",
   "name": "python",
   "nbconvert_exporter": "python",
   "pygments_lexer": "ipython2",
   "version": "2.7.6"
  }
 },
 "nbformat": 4,
 "nbformat_minor": 5
}
