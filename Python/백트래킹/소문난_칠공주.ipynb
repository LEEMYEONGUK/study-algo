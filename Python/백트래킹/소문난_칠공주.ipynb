{
 "cells": [
  {
   "cell_type": "code",
   "execution_count": null,
   "id": "initial_id",
   "metadata": {
    "collapsed": true
   },
   "outputs": [],
   "source": [
    "from _collections import deque\n",
    "def bfs(si, sj):\n",
    "    q = deque()\n",
    "    vv = [[0] * 5 for _ in range(5)]\n",
    "    \n",
    "    q.append((si, sj))\n",
    "    vv[si][sj] = 1\n",
    "    cnt = 1\n",
    "    \n",
    "    while q:\n",
    "        ci, cj = q.popleft()\n",
    "        for di, dj in ((-1, 0), (1, 0), (0, -1), (0, 1)):\n",
    "            ni, nj = ci+di, cj +dj\n",
    "            if 0 <= ni < 5 and 0 < nj < 5 and vv[ni][nj]== 0 and v[ni][nj]== 1:\n",
    "                q.append(ni, nj)\n",
    "                vv[ni][nj] = 1\n",
    "                cnt += 1\n",
    "        return cnt == 7\n",
    "\n",
    "\n",
    "def check():\n",
    "    for i in range(5):\n",
    "        for j in range(5):\n",
    "            if v[i][j] == 1:\n",
    "                return bfs(i, j)\n",
    "\n",
    "\n",
    "def dfs(n, cnt, scnt):\n",
    "    global ans\n",
    "    if cnt > 7:\n",
    "        return \n",
    "    \n",
    "    if n == 25:\n",
    "        # 7명 그룹이고, 4명 이상이 다솜파인 경우\n",
    "        if cnt == 7 and scnt >= 4:\n",
    "            # 인접했는지 체크해서 모두 인접시 정답 += 1\n",
    "            if check():\n",
    "                ans += 1\n",
    "        return \n",
    "    \n",
    "    # 포함하는 경우 표시\n",
    "    v[n//5][n%5] = 1\n",
    "    dfs(n + 1, cnt + 1, scnt + int(arr[n//5][n%5] == 's'))\n",
    "    v[n//5][n%5] = 0\n",
    "    # 포함하지 않는 경우\n",
    "\n",
    "\n",
    "arr = [input() for _ in range(5)]\n",
    "ans = 0\n",
    "v = [[0] * 5 for _ in range(5)]\n",
    "# 학생 번호(0 ~ 24), 포함 학생수, 다솜파 학생수\n",
    "dfs(0, 0, 0)\n",
    "print(ans)"
   ]
  }
 ],
 "metadata": {
  "kernelspec": {
   "display_name": "Python 3",
   "language": "python",
   "name": "python3"
  },
  "language_info": {
   "codemirror_mode": {
    "name": "ipython",
    "version": 2
   },
   "file_extension": ".py",
   "mimetype": "text/x-python",
   "name": "python",
   "nbconvert_exporter": "python",
   "pygments_lexer": "ipython2",
   "version": "2.7.6"
  }
 },
 "nbformat": 4,
 "nbformat_minor": 5
}
