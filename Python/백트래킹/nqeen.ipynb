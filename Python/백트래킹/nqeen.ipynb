{
 "cells": [
  {
   "cell_type": "code",
   "execution_count": 3,
   "id": "initial_id",
   "metadata": {
    "collapsed": true,
    "ExecuteTime": {
     "end_time": "2024-03-24T02:55:16.038219Z",
     "start_time": "2024-03-24T02:55:14.025082Z"
    }
   },
   "outputs": [
    {
     "name": "stdout",
     "output_type": "stream",
     "text": [
      "92\n"
     ]
    }
   ],
   "source": [
    "# N행으로 진행 => 성공, ans += 1\n",
    "# 0번 행 부터 Q 놓고(가능한지 v 리스트들을 이용해 체크), 그 다음행\n",
    "# 굳이 이차원 배열 안만들고 열 선택 여부 확인 가능\n",
    "# 배열을 살펴보니 오른쪽 대각선은 r + c 값이 같음\n",
    "# 왼쪽 대각선은 r - c 값이 같음\n",
    "# n : 행번호\n",
    "\n",
    "# look up table\n",
    "def dfs(n):\n",
    "    global ans\n",
    "    # N행까지 진행한 경우 경우의 수 가능:성공\n",
    "    if n == N:\n",
    "        ans += 1\n",
    "        return\n",
    "    \n",
    "    for j in range(N):\n",
    "        # 열/ 대각선 모두 q이 없는 경우\n",
    "        if v1[j] == v2[n+j] == v3[n -j] == 0:\n",
    "            v1[j] = v2[n+j] = v3[n -j] = 1\n",
    "            dfs(n + 1)\n",
    "            v1[j] = v2[n+j] = v3[n -j] = 0\n",
    "            \n",
    "\n",
    "\n",
    "N = int(input())\n",
    "ans = 0\n",
    "\n",
    "v1 = [0] * N\n",
    "v2 = [0] * (2*N)\n",
    "v3 = [0] * (2*N)\n",
    "\n",
    "dfs(0)\n",
    "print(ans)"
   ]
  }
 ],
 "metadata": {
  "kernelspec": {
   "display_name": "Python 3",
   "language": "python",
   "name": "python3"
  },
  "language_info": {
   "codemirror_mode": {
    "name": "ipython",
    "version": 2
   },
   "file_extension": ".py",
   "mimetype": "text/x-python",
   "name": "python",
   "nbconvert_exporter": "python",
   "pygments_lexer": "ipython2",
   "version": "2.7.6"
  }
 },
 "nbformat": 4,
 "nbformat_minor": 5
}
